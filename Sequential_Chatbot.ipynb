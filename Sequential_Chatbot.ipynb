{
  "nbformat": 4,
  "nbformat_minor": 0,
  "metadata": {
    "colab": {
      "provenance": [],
      "gpuType": "T4"
    },
    "kernelspec": {
      "name": "python3",
      "display_name": "Python 3"
    },
    "language_info": {
      "name": "python"
    },
    "accelerator": "GPU"
  },
  "cells": [
    {
      "cell_type": "code",
      "execution_count": null,
      "metadata": {
        "id": "23DFzKyuiakd"
      },
      "outputs": [],
      "source": [
        "import torch\n",
        "from torch.jit import script, trace\n",
        "import torch.nn as nn\n",
        "from torch import optim\n",
        "import torch.nn.functional as F\n",
        "import csv\n",
        "import random\n",
        "import re\n",
        "import os\n",
        "import unicodedata\n",
        "import codecs\n",
        "from io import open\n",
        "import itertools\n",
        "import math\n",
        "import json"
      ]
    },
    {
      "cell_type": "code",
      "source": [
        "device = torch.accelerator.current_accelerator().type if torch.accelerator.is_available() else \"cpu\"\n",
        "print(f\"Using {device} device\")"
      ],
      "metadata": {
        "colab": {
          "base_uri": "https://localhost:8080/"
        },
        "id": "AYnQ_uIUivxW",
        "outputId": "ff731212-9d4a-462d-bffc-23e5bf43122f"
      },
      "execution_count": null,
      "outputs": [
        {
          "output_type": "stream",
          "name": "stdout",
          "text": [
            "Using cuda device\n"
          ]
        }
      ]
    },
    {
      "cell_type": "markdown",
      "source": [
        "# **Load & Preprocess Data**"
      ],
      "metadata": {
        "id": "00WxJwUyi2Wj"
      }
    },
    {
      "cell_type": "markdown",
      "source": [
        "**preprocess the data**"
      ],
      "metadata": {
        "id": "YHsOq5upstAR"
      }
    },
    {
      "cell_type": "code",
      "source": [
        "lines_filepath = os.path.join(\"/content\", \"movie_lines.txt\")\n",
        "conv_filepath = os.path.join(\"/content\", \"movie_conversations.txt\")"
      ],
      "metadata": {
        "id": "vQRQyE-zr-IV"
      },
      "execution_count": null,
      "outputs": []
    },
    {
      "cell_type": "code",
      "source": [
        "# Visualize some lines\n",
        "with open(lines_filepath, 'r', encoding='utf-8', errors='ignore') as file:\n",
        "    lines = file.readlines()\n",
        "for line in lines[:8]:\n",
        "    print(line.strip())"
      ],
      "metadata": {
        "colab": {
          "base_uri": "https://localhost:8080/"
        },
        "collapsed": true,
        "id": "eMC4myQ3ivt7",
        "outputId": "63c604db-466b-4355-def1-f10ba2f8faf8"
      },
      "execution_count": null,
      "outputs": [
        {
          "output_type": "stream",
          "name": "stdout",
          "text": [
            "L1045 +++$+++ u0 +++$+++ m0 +++$+++ BIANCA +++$+++ They do not!\n",
            "L1044 +++$+++ u2 +++$+++ m0 +++$+++ CAMERON +++$+++ They do to!\n",
            "L985 +++$+++ u0 +++$+++ m0 +++$+++ BIANCA +++$+++ I hope so.\n",
            "L984 +++$+++ u2 +++$+++ m0 +++$+++ CAMERON +++$+++ She okay?\n",
            "L925 +++$+++ u0 +++$+++ m0 +++$+++ BIANCA +++$+++ Let's go.\n",
            "L924 +++$+++ u2 +++$+++ m0 +++$+++ CAMERON +++$+++ Wow\n",
            "L872 +++$+++ u0 +++$+++ m0 +++$+++ BIANCA +++$+++ Okay -- you're gonna need to learn how to lie.\n",
            "L871 +++$+++ u2 +++$+++ m0 +++$+++ CAMERON +++$+++ No\n"
          ]
        }
      ]
    },
    {
      "cell_type": "code",
      "source": [
        "# Splits each line of the file into a dictionary of fields (LineID, characterID, movieID, character, text)\n",
        "line_fields = [\"lineID\", \"characterID\", \"movieID\", \"character\", \"text\"]\n",
        "lines = {}\n",
        "with open(lines_filepath, 'r', encoding='iso-8859-1') as f:\n",
        "    for line in f:\n",
        "        values = line.split(\" +++$+++ \")\n",
        "        # Extract fields\n",
        "        lineObj = {}\n",
        "        for i, field in enumerate(line_fields):\n",
        "            lineObj[field] = values[i]\n",
        "        lines[lineObj['lineID']] = lineObj"
      ],
      "metadata": {
        "id": "1jj-WpbiqEYH"
      },
      "execution_count": null,
      "outputs": []
    },
    {
      "cell_type": "code",
      "source": [
        "# Show the first 3 lines\n",
        "count = 0\n",
        "for line_id, line_data in lines.items():\n",
        "    if count < 3:\n",
        "        print(f\"{line_id}: {line_data}\")\n",
        "        count += 1\n",
        "    else:\n",
        "        break"
      ],
      "metadata": {
        "colab": {
          "base_uri": "https://localhost:8080/"
        },
        "id": "wsSiI0KWqITS",
        "outputId": "679232b3-8906-4606-b534-955813943b35"
      },
      "execution_count": null,
      "outputs": [
        {
          "output_type": "stream",
          "name": "stdout",
          "text": [
            "L1045: {'lineID': 'L1045', 'characterID': 'u0', 'movieID': 'm0', 'character': 'BIANCA', 'text': 'They do not!\\n'}\n",
            "L1044: {'lineID': 'L1044', 'characterID': 'u2', 'movieID': 'm0', 'character': 'CAMERON', 'text': 'They do to!\\n'}\n",
            "L985: {'lineID': 'L985', 'characterID': 'u0', 'movieID': 'm0', 'character': 'BIANCA', 'text': 'I hope so.\\n'}\n"
          ]
        }
      ]
    },
    {
      "cell_type": "code",
      "source": [
        "# Groups fields of lines from `loadlines` into conversations based on *movie_conversations.txt*\n",
        "conv_fields = [\"character1ID\", \"character2ID\", \"movieID\", \"utteranceIDs\"]\n",
        "conversations = []\n",
        "with open(conv_filepath, 'r', encoding='iso-8859-1') as f:\n",
        "    for line in f:\n",
        "        values = line.split(\" +++$+++ \")\n",
        "        # Extract fields\n",
        "        convObj = {}\n",
        "        for i, field in enumerate(conv_fields):\n",
        "            convObj[field] = values[i]\n",
        "        # Convert string result from split to list, since convObj[\"utteranceIDs\"] == ['L598485', 'L598486', ...]\n",
        "        lineIDs = eval(convObj[\"utteranceIDs\"])\n",
        "        # Reassemble lines\n",
        "        convObj[\"lines\"] = []\n",
        "        for lineId in lineIDs:\n",
        "            convObj[\"lines\"].append(lines[lineId])\n",
        "        conversations.append(convObj)"
      ],
      "metadata": {
        "id": "9pzkOY1ZnfL6"
      },
      "execution_count": null,
      "outputs": []
    },
    {
      "cell_type": "code",
      "source": [
        "# Show the first 3 conversations\n",
        "for conv in conversations[:3]:\n",
        "    print(conv)"
      ],
      "metadata": {
        "colab": {
          "base_uri": "https://localhost:8080/"
        },
        "id": "ShGHNCmcuEtM",
        "outputId": "d3bcbc5c-c537-43d5-9a3e-f34e00d53d7a"
      },
      "execution_count": null,
      "outputs": [
        {
          "output_type": "stream",
          "name": "stdout",
          "text": [
            "{'character1ID': 'u0', 'character2ID': 'u2', 'movieID': 'm0', 'utteranceIDs': \"['L194', 'L195', 'L196', 'L197']\\n\", 'lines': [{'lineID': 'L194', 'characterID': 'u0', 'movieID': 'm0', 'character': 'BIANCA', 'text': 'Can we make this quick?  Roxanne Korrine and Andrew Barrett are having an incredibly horrendous public break- up on the quad.  Again.\\n'}, {'lineID': 'L195', 'characterID': 'u2', 'movieID': 'm0', 'character': 'CAMERON', 'text': \"Well, I thought we'd start with pronunciation, if that's okay with you.\\n\"}, {'lineID': 'L196', 'characterID': 'u0', 'movieID': 'm0', 'character': 'BIANCA', 'text': 'Not the hacking and gagging and spitting part.  Please.\\n'}, {'lineID': 'L197', 'characterID': 'u2', 'movieID': 'm0', 'character': 'CAMERON', 'text': \"Okay... then how 'bout we try out some French cuisine.  Saturday?  Night?\\n\"}]}\n",
            "{'character1ID': 'u0', 'character2ID': 'u2', 'movieID': 'm0', 'utteranceIDs': \"['L198', 'L199']\\n\", 'lines': [{'lineID': 'L198', 'characterID': 'u0', 'movieID': 'm0', 'character': 'BIANCA', 'text': \"You're asking me out.  That's so cute. What's your name again?\\n\"}, {'lineID': 'L199', 'characterID': 'u2', 'movieID': 'm0', 'character': 'CAMERON', 'text': 'Forget it.\\n'}]}\n",
            "{'character1ID': 'u0', 'character2ID': 'u2', 'movieID': 'm0', 'utteranceIDs': \"['L200', 'L201', 'L202', 'L203']\\n\", 'lines': [{'lineID': 'L200', 'characterID': 'u0', 'movieID': 'm0', 'character': 'BIANCA', 'text': \"No, no, it's my fault -- we didn't have a proper introduction ---\\n\"}, {'lineID': 'L201', 'characterID': 'u2', 'movieID': 'm0', 'character': 'CAMERON', 'text': 'Cameron.\\n'}, {'lineID': 'L202', 'characterID': 'u0', 'movieID': 'm0', 'character': 'BIANCA', 'text': \"The thing is, Cameron -- I'm at the mercy of a particularly hideous breed of loser.  My sister.  I can't date until she does.\\n\"}, {'lineID': 'L203', 'characterID': 'u2', 'movieID': 'm0', 'character': 'CAMERON', 'text': 'Seems like she could get a date easy enough...\\n'}]}\n"
          ]
        }
      ]
    },
    {
      "cell_type": "code",
      "source": [
        "# Extracts pairs of sentences from conversations\n",
        "qa_pairs = []\n",
        "for conversation in conversations:\n",
        "  # Iterate over all the lines of the conversation\n",
        "  for i in range(len(conversation [\"lines\"]) - 1):\n",
        "    inputLine = conversation [\"lines\"][i][\"text\"].strip()\n",
        "    targetLine = conversation[\"lines\"][i+1][\"text\"].strip()\n",
        "    # Filter wrong samples (if one of the lists is empty)\n",
        "    if inputLine and targetLine:\n",
        "      qa_pairs.append([inputLine, targetLine])"
      ],
      "metadata": {
        "id": "4GfEWxeEvxgF"
      },
      "execution_count": null,
      "outputs": []
    },
    {
      "cell_type": "code",
      "source": [
        "qa_pairs[0]"
      ],
      "metadata": {
        "colab": {
          "base_uri": "https://localhost:8080/"
        },
        "id": "O99vtkfvwQ-1",
        "outputId": "def47f99-e748-4274-d03b-9f409f7dd1ec"
      },
      "execution_count": null,
      "outputs": [
        {
          "output_type": "execute_result",
          "data": {
            "text/plain": [
              "['Can we make this quick?  Roxanne Korrine and Andrew Barrett are having an incredibly horrendous public break- up on the quad.  Again.',\n",
              " \"Well, I thought we'd start with pronunciation, if that's okay with you.\"]"
            ]
          },
          "metadata": {},
          "execution_count": 33
        }
      ]
    },
    {
      "cell_type": "code",
      "source": [
        "# Define path to new file\n",
        "datafile = os.path.join(\"/content\", \"formatted_movie_lines.txt\")\n",
        "delimiter = '\\t'\n",
        "# Unescape the delimiter\n",
        "delimiter = str(codecs.decode(delimiter, \"unicode_escape\"))\n",
        "\n",
        "# Write new CSV file\n",
        "print(\"\\nWriting newly formatted file...\")\n",
        "with open(datafile, 'w', encoding='utf-8') as outputfile:\n",
        "    writer = csv.writer(outputfile, delimiter=delimiter)\n",
        "    for pair in qa_pairs:\n",
        "        writer.writerow(pair)\n",
        "print(\"Done writing to file\")"
      ],
      "metadata": {
        "colab": {
          "base_uri": "https://localhost:8080/"
        },
        "id": "Id5eHeGSxPJs",
        "outputId": "64ea8b81-b4be-4a56-a13e-7694d63a6855"
      },
      "execution_count": null,
      "outputs": [
        {
          "output_type": "stream",
          "name": "stdout",
          "text": [
            "\n",
            "Writing newly formatted file...\n",
            "Done writing to file\n"
          ]
        }
      ]
    },
    {
      "cell_type": "code",
      "source": [
        "# Visualize some lines\n",
        "datafile = os.path.join(\"/content\", \"formatted_movie_lines.txt\")\n",
        "with open(datafile, 'rb') as file:\n",
        "    lines = file.readlines()\n",
        "for line in lines[:3]:\n",
        "    print(line)"
      ],
      "metadata": {
        "colab": {
          "base_uri": "https://localhost:8080/"
        },
        "id": "8UyPPo8RxVwh",
        "outputId": "39721957-9e74-4d70-d458-e74ef17e935b"
      },
      "execution_count": null,
      "outputs": [
        {
          "output_type": "stream",
          "name": "stdout",
          "text": [
            "b\"Can we make this quick?  Roxanne Korrine and Andrew Barrett are having an incredibly horrendous public break- up on the quad.  Again.\\tWell, I thought we'd start with pronunciation, if that's okay with you.\\r\\n\"\n",
            "b\"Well, I thought we'd start with pronunciation, if that's okay with you.\\tNot the hacking and gagging and spitting part.  Please.\\r\\n\"\n",
            "b\"Not the hacking and gagging and spitting part.  Please.\\tOkay... then how 'bout we try out some French cuisine.  Saturday?  Night?\\r\\n\"\n"
          ]
        }
      ]
    },
    {
      "cell_type": "markdown",
      "source": [
        "preprocess the words"
      ],
      "metadata": {
        "id": "7wlLp6q6xl2T"
      }
    },
    {
      "cell_type": "code",
      "source": [
        "PAD_token = 0   # Used for padding short sentences\n",
        "SOS_token = 1   # Start-of-sentence token <START>\n",
        "EOS_token = 2   # End-of-sentence token <END>\n",
        "\n",
        "class Vocabulary:\n",
        "    def __init__(self, name):\n",
        "        self.name = name\n",
        "        self.word2index = {}\n",
        "        self.word2count = {}\n",
        "        self.index2word = {PAD_token: \"PAD\", SOS_token: \"SOS\", EOS_token: \"EOS\"}\n",
        "        self.num_words = 3  # Count SOS, EOS, PAD\n",
        "\n",
        "    def addSentence(self, sentence):\n",
        "        for word in sentence.split(' '):\n",
        "            self.addWord(word)\n",
        "\n",
        "    def addWord(self, word):\n",
        "        if word not in self.word2index:\n",
        "            self.word2index[word] = self.num_words\n",
        "            self.word2count[word] = 1\n",
        "            self.index2word[self.num_words] = word\n",
        "            self.num_words += 1\n",
        "        else:\n",
        "            self.word2count[word] += 1\n",
        "\n",
        "    # Remove words below a certain count threshold\n",
        "    def trim(self, min_count):\n",
        "        keep_words = []\n",
        "        for k, v in self.word2count.items():\n",
        "            if v >= min_count:\n",
        "                keep_words.append(k)\n",
        "\n",
        "        print('keep_words {}/{} = {:.4f}'.format(len(keep_words), len(self.word2index), len(keep_words) / len(self.word2index)))\n",
        "        # Reinitialize dictionaries\n",
        "        self.word2index = {}\n",
        "        self.word2count = {}\n",
        "        self.index2word = {PAD_token: \"PAD\", SOS_token: \"SOS\", EOS_token: \"EOS\"}\n",
        "        self.num_words = 3  # Count default tokens\n",
        "\n",
        "        for word in keep_words:\n",
        "            self.addWord(word)"
      ],
      "metadata": {
        "id": "1uOB03vgxoJj"
      },
      "execution_count": null,
      "outputs": []
    },
    {
      "cell_type": "markdown",
      "source": [
        "precessing text"
      ],
      "metadata": {
        "id": "InbSrCTizfsj"
      }
    },
    {
      "cell_type": "code",
      "source": [
        "# Turn a Unicode string to plain ASCII\n",
        "def unicodeToAscii(s):\n",
        "    return ''.join(c for c in unicodedata.normalize('NFD', s) if unicodedata.category(c) != 'Mn')\n",
        "\n",
        "# Test the function\n",
        "unicodeToAscii(\"Montréal, Française....\")"
      ],
      "metadata": {
        "colab": {
          "base_uri": "https://localhost:8080/",
          "height": 36
        },
        "id": "ic1B0b29zhZ8",
        "outputId": "67e6984f-0705-49f1-ea9c-953651fed3ee"
      },
      "execution_count": null,
      "outputs": [
        {
          "output_type": "execute_result",
          "data": {
            "text/plain": [
              "'Montreal, Francaise....'"
            ],
            "application/vnd.google.colaboratory.intrinsic+json": {
              "type": "string"
            }
          },
          "metadata": {},
          "execution_count": 37
        }
      ]
    },
    {
      "cell_type": "code",
      "source": [
        "# Lowercase, trim white spaces, lines... and remove non-letter characters.\n",
        "def normalizeString(s):\n",
        "    s = unicodeToAscii(s.lower().strip())\n",
        "    # Replace any .!? by a whitespace + the character --> '.!' = ' .!'\n",
        "    s = re.sub(r\"([.!?])\", r\" \\1\", s)\n",
        "    # Remove any character that is not a sequence of lower or upper case letters\n",
        "    s = re.sub(r\"[^a-zA-Z.!?]+\", r\" \", s)\n",
        "    # Remove a sequence of whitespace characters\n",
        "    s = re.sub(r\"\\s+\", r\" \", s).strip()\n",
        "    return s\n",
        "\n",
        "# Test the function\n",
        "normalizeString(\"aa123aals's   dd?\")"
      ],
      "metadata": {
        "colab": {
          "base_uri": "https://localhost:8080/",
          "height": 36
        },
        "id": "qOQBEaIhz7AV",
        "outputId": "bb2e0cd1-9652-4e90-e2a1-8266da46adf8"
      },
      "execution_count": null,
      "outputs": [
        {
          "output_type": "execute_result",
          "data": {
            "text/plain": [
              "'aa aals s dd ?'"
            ],
            "application/vnd.google.colaboratory.intrinsic+json": {
              "type": "string"
            }
          },
          "metadata": {},
          "execution_count": 38
        }
      ]
    },
    {
      "cell_type": "code",
      "source": [
        "datafile = os.path.join(\"/content\", \"formatted_movie_lines.txt\")\n",
        "# Read the file and split into lines\n",
        "print(\"Reading and processing file.... Please Wait\")\n",
        "lines = open(datafile, 'r', encoding='utf-8').read().strip().split('\\n')\n",
        "# Split every line into pairs and normalize\n",
        "pairs = [[normalizeString(s) for s in pair.split('\\t')] for pair in lines]\n",
        "print(\"Done Reading!\")\n",
        "voc = Vocabulary(\"/content\")"
      ],
      "metadata": {
        "colab": {
          "base_uri": "https://localhost:8080/"
        },
        "id": "iqS0h_mw0kQg",
        "outputId": "03724a2b-c998-4427-9444-44e55aee5cde"
      },
      "execution_count": null,
      "outputs": [
        {
          "output_type": "stream",
          "name": "stdout",
          "text": [
            "Reading and processing file.... Please Wait\n",
            "Done Reading!\n"
          ]
        }
      ]
    },
    {
      "cell_type": "code",
      "source": [
        "len(pairs)"
      ],
      "metadata": {
        "colab": {
          "base_uri": "https://localhost:8080/"
        },
        "id": "MKtKVrZr1vMJ",
        "outputId": "737e55e8-54d0-460e-edea-de78e20212d1"
      },
      "execution_count": null,
      "outputs": [
        {
          "output_type": "execute_result",
          "data": {
            "text/plain": [
              "221282"
            ]
          },
          "metadata": {},
          "execution_count": 40
        }
      ]
    },
    {
      "cell_type": "code",
      "source": [
        "pairs[0]"
      ],
      "metadata": {
        "colab": {
          "base_uri": "https://localhost:8080/"
        },
        "id": "Ppti6z0S10DJ",
        "outputId": "18aafd61-344e-4a18-8579-d9ccd6f95e38"
      },
      "execution_count": null,
      "outputs": [
        {
          "output_type": "execute_result",
          "data": {
            "text/plain": [
              "['can we make this quick ? roxanne korrine and andrew barrett are having an incredibly horrendous public break up on the quad . again .',\n",
              " 'well i thought we d start with pronunciation if that s okay with you .']"
            ]
          },
          "metadata": {},
          "execution_count": 41
        }
      ]
    },
    {
      "cell_type": "markdown",
      "source": [
        "filtering the text"
      ],
      "metadata": {
        "id": "ymEdTa2o2EXM"
      }
    },
    {
      "cell_type": "code",
      "source": [
        "# Returns True if both sentences in a pair 'p' are under the MAX_LENGTH threshold\n",
        "MAX_LENGTH = 10  # Maximum sentence length to consider (max words)\n",
        "def filterPair(p):\n",
        "    # Input sequences need to preserve the last word for EOS token\n",
        "    return len(p[0].split()) < MAX_LENGTH and len(p[1].split()) < MAX_LENGTH\n",
        "\n",
        "# Filter pairs using filterPair condition\n",
        "def filterPairs(pairs):\n",
        "    return [pair for pair in pairs if filterPair(pair)]"
      ],
      "metadata": {
        "id": "uiLeXJvn0kIc"
      },
      "execution_count": null,
      "outputs": []
    },
    {
      "cell_type": "code",
      "source": [
        "pairs = [pair for pair in pairs if len(pair) > 1]\n",
        "print(\"There are {} pairs/conversations in the dataset\".format(len(pairs)))\n",
        "pairs = filterPairs(pairs)\n",
        "print(\"After filtering, there are {} pairs/conversations\".format(len(pairs)))"
      ],
      "metadata": {
        "colab": {
          "base_uri": "https://localhost:8080/"
        },
        "id": "Dk7D1wPp1MZj",
        "outputId": "46c6883a-4f5d-4928-80a6-956936b8276f"
      },
      "execution_count": null,
      "outputs": [
        {
          "output_type": "stream",
          "name": "stdout",
          "text": [
            "There are 221282 pairs/conversations in the dataset\n",
            "After filtering, there are 64271 pairs/conversations\n"
          ]
        }
      ]
    },
    {
      "cell_type": "markdown",
      "source": [
        "Getting Rid of Rare Words"
      ],
      "metadata": {
        "id": "qgdrxipj2_y0"
      }
    },
    {
      "cell_type": "code",
      "source": [
        "#Loop through each pair of and add the question and reply sentence to the vocabulary\n",
        "for pair in pairs:\n",
        "    voc.addSentence (pair[0])\n",
        "    voc.addSentence (pair[1])\n",
        "print(\"Counted words:\", voc.num_words)\n",
        "for pair in pairs[:10]:\n",
        "    print (pair)"
      ],
      "metadata": {
        "colab": {
          "base_uri": "https://localhost:8080/"
        },
        "id": "BL6jX93S2-5M",
        "outputId": "e572645b-4892-4e9b-84e0-4e22a0e3085a"
      },
      "execution_count": null,
      "outputs": [
        {
          "output_type": "stream",
          "name": "stdout",
          "text": [
            "Counted words: 18008\n",
            "['there .', 'where ?']\n",
            "['you have my word . as a gentleman', 'you re sweet .']\n",
            "['hi .', 'looks like things worked out tonight huh ?']\n",
            "['you know chastity ?', 'i believe we share an art instructor']\n",
            "['have fun tonight ?', 'tons']\n",
            "['well no . . .', 'then that s all you had to say .']\n",
            "['then that s all you had to say .', 'but']\n",
            "['but', 'you always been this selfish ?']\n",
            "['do you listen to this crap ?', 'what crap ?']\n",
            "['what good stuff ?', 'the real you .']\n"
          ]
        }
      ]
    },
    {
      "cell_type": "code",
      "source": [
        "MIN_COUNT = 3  # Minimum word count threshold for trimming\n",
        "\n",
        "def trimRareWords(voc, pairs, MIN_COUNT):\n",
        "    # Trim words used under the MIN_COUNT from the voc\n",
        "    voc.trim(MIN_COUNT)\n",
        "\n",
        "    # Filter out pairs with trimmed words\n",
        "    keep_pairs = []\n",
        "    for pair in pairs:\n",
        "        input_sentence = pair[0]\n",
        "        output_sentence = pair[1]\n",
        "        keep_input = True\n",
        "        keep_output = True\n",
        "\n",
        "        # Check input sentence\n",
        "        for word in input_sentence.split(' '):\n",
        "            if word not in voc.word2index:\n",
        "                keep_input = False\n",
        "                break\n",
        "\n",
        "        # Check output sentence\n",
        "        for word in output_sentence.split(' '):\n",
        "            if word not in voc.word2index:\n",
        "                keep_output = False\n",
        "                break\n",
        "\n",
        "        # Only keep pairs that do not contain trimmed word(s) in their input or output sentence\n",
        "        if keep_input and keep_output:\n",
        "            keep_pairs.append(pair)\n",
        "\n",
        "    print(\"Trimmed from {} pairs to {}, {:.4f} of total\".format(len(pairs), len(keep_pairs), len(keep_pairs) / len(pairs)))\n",
        "    return keep_pairs\n",
        "\n",
        "# Trim voc and pairs\n",
        "pairs = trimRareWords(voc, pairs, MIN_COUNT)"
      ],
      "metadata": {
        "colab": {
          "base_uri": "https://localhost:8080/"
        },
        "id": "llU9al8P30ht",
        "outputId": "e39dc3ae-19a8-441d-b71d-b3b0d6e0679b"
      },
      "execution_count": null,
      "outputs": [
        {
          "output_type": "stream",
          "name": "stdout",
          "text": [
            "keep_words 7823/18005 = 0.4345\n",
            "Trimmed from 64271 pairs to 53165, 0.8272 of total\n"
          ]
        }
      ]
    },
    {
      "cell_type": "markdown",
      "source": [
        "# Prepare Data for Models"
      ],
      "metadata": {
        "id": "n_3oxYW_nXCg"
      }
    },
    {
      "cell_type": "code",
      "source": [
        "def indexesFromSentence (voc, sentence):\n",
        "  return [voc.word2index [word] for word in sentence.split(' ')] + [EOS_token]\n",
        "\n"
      ],
      "metadata": {
        "id": "r2rBM5CHnZuV"
      },
      "execution_count": null,
      "outputs": []
    },
    {
      "cell_type": "code",
      "source": [
        "#Test the function\n",
        "print(pairs[1][0])\n",
        "indexesFromSentence (voc, pairs [1][0])"
      ],
      "metadata": {
        "colab": {
          "base_uri": "https://localhost:8080/"
        },
        "id": "vEYBg_dZ7pw7",
        "outputId": "3deb38ff-481d-4379-aaae-67cd49a2c69c"
      },
      "execution_count": null,
      "outputs": [
        {
          "output_type": "stream",
          "name": "stdout",
          "text": [
            "you have my word . as a gentleman\n"
          ]
        },
        {
          "output_type": "execute_result",
          "data": {
            "text/plain": [
              "[7, 8, 9, 10, 4, 11, 12, 13, 2]"
            ]
          },
          "metadata": {},
          "execution_count": 47
        }
      ]
    },
    {
      "cell_type": "code",
      "source": [
        "# Define some samples for testing\n",
        "inp = []\n",
        "out = []\n",
        "for pair in pairs[:10]:\n",
        "    inp.append(pair[0])\n",
        "    out.append(pair[1])\n",
        "print(inp[3])\n",
        "\n",
        "indexes = [indexesFromSentence(voc, sentence) for sentence in inp]\n",
        "indexes[3]"
      ],
      "metadata": {
        "colab": {
          "base_uri": "https://localhost:8080/"
        },
        "id": "GpB0B0Ao8HRw",
        "outputId": "27fd5807-87ec-435f-aaff-6dfb106744c8"
      },
      "execution_count": null,
      "outputs": [
        {
          "output_type": "stream",
          "name": "stdout",
          "text": [
            "have fun tonight ?\n"
          ]
        },
        {
          "output_type": "execute_result",
          "data": {
            "text/plain": [
              "[8, 31, 22, 6, 2]"
            ]
          },
          "metadata": {},
          "execution_count": 48
        }
      ]
    },
    {
      "cell_type": "code",
      "source": [
        "def zeroPadding(l, fillvalue=0):\n",
        "    return list(itertools.zip_longest(*l, fillvalue=fillvalue))\n",
        "\n",
        "\n",
        "\n",
        "leng = [len(ind) for ind in indexes]\n",
        "print(max(leng))\n",
        "\n",
        "#Test the function\n",
        "\n",
        "test_result = zeroPadding (indexes)\n",
        "print(len(test_result)) #The max length is now the number of rows or the batch size\n",
        "test_result"
      ],
      "metadata": {
        "colab": {
          "base_uri": "https://localhost:8080/"
        },
        "id": "CTEEITG-9GGY",
        "outputId": "e1bd57f2-b2e3-45d4-d403-d4b7f2e9ef4f"
      },
      "execution_count": null,
      "outputs": [
        {
          "output_type": "stream",
          "name": "stdout",
          "text": [
            "10\n",
            "10\n"
          ]
        },
        {
          "output_type": "execute_result",
          "data": {
            "text/plain": [
              "[(3, 7, 16, 8, 33, 35, 42, 47, 50, 58),\n",
              " (4, 8, 4, 31, 34, 36, 2, 7, 51, 2),\n",
              " (2, 9, 2, 22, 4, 37, 0, 48, 52, 0),\n",
              " (0, 10, 0, 6, 4, 38, 0, 40, 6, 0),\n",
              " (0, 4, 0, 2, 4, 7, 0, 45, 2, 0),\n",
              " (0, 11, 0, 0, 2, 39, 0, 49, 0, 0),\n",
              " (0, 12, 0, 0, 0, 40, 0, 6, 0, 0),\n",
              " (0, 13, 0, 0, 0, 41, 0, 2, 0, 0),\n",
              " (0, 2, 0, 0, 0, 4, 0, 0, 0, 0),\n",
              " (0, 0, 0, 0, 0, 2, 0, 0, 0, 0)]"
            ]
          },
          "metadata": {},
          "execution_count": 49
        }
      ]
    },
    {
      "cell_type": "code",
      "source": [
        "def binaryMatrix(l, value=0):\n",
        "    m = []\n",
        "    for i, seq in enumerate(l):\n",
        "        m.append([])\n",
        "        for token in seq:\n",
        "            if token == PAD_token:\n",
        "                m[i].append(0)\n",
        "            else:\n",
        "                m[i].append(1)\n",
        "    return m\n",
        "\n",
        "binary_result = binaryMatrix(test_result)\n",
        "binary_result"
      ],
      "metadata": {
        "colab": {
          "base_uri": "https://localhost:8080/"
        },
        "id": "ap4lmsn095ut",
        "outputId": "177b21d0-ff0e-4271-a343-bae01c63d7d9"
      },
      "execution_count": null,
      "outputs": [
        {
          "output_type": "execute_result",
          "data": {
            "text/plain": [
              "[[1, 1, 1, 1, 1, 1, 1, 1, 1, 1],\n",
              " [1, 1, 1, 1, 1, 1, 1, 1, 1, 1],\n",
              " [1, 1, 1, 1, 1, 1, 0, 1, 1, 0],\n",
              " [0, 1, 0, 1, 1, 1, 0, 1, 1, 0],\n",
              " [0, 1, 0, 1, 1, 1, 0, 1, 1, 0],\n",
              " [0, 1, 0, 0, 1, 1, 0, 1, 0, 0],\n",
              " [0, 1, 0, 0, 0, 1, 0, 1, 0, 0],\n",
              " [0, 1, 0, 0, 0, 1, 0, 1, 0, 0],\n",
              " [0, 1, 0, 0, 0, 1, 0, 0, 0, 0],\n",
              " [0, 0, 0, 0, 0, 1, 0, 0, 0, 0]]"
            ]
          },
          "metadata": {},
          "execution_count": 50
        }
      ]
    },
    {
      "cell_type": "code",
      "source": [
        "# Returns padded input sequence tensor and as well as a tensor of lengths for each of the sequences in the batch\n",
        "#of 1st character\n",
        "def inputVar(l, voc):\n",
        "    indexes_batch = [indexesFromSentence(voc, sentence) for sentence in l]\n",
        "    lengths = torch.tensor([len(indexes) for indexes in indexes_batch])\n",
        "    padList = zeroPadding(indexes_batch)\n",
        "    padVar = torch.LongTensor(padList)\n",
        "    return padVar, lengths"
      ],
      "metadata": {
        "id": "WhC8GOv3Bh2A"
      },
      "execution_count": null,
      "outputs": []
    },
    {
      "cell_type": "code",
      "source": [
        "# Returns padded target sequence tensor, padding mask, and max target length\n",
        "#of 2nd character\n",
        "def outputVar(l, voc):\n",
        "    indexes_batch = [indexesFromSentence(voc, sentence) for sentence in l]\n",
        "    max_target_len = max([len(indexes) for indexes in indexes_batch])\n",
        "    padList = zeroPadding(indexes_batch)\n",
        "    mask = binaryMatrix(padList)\n",
        "    mask = torch.ByteTensor(mask)\n",
        "    padVar = torch.LongTensor(padList)\n",
        "    return padVar, mask, max_target_len"
      ],
      "metadata": {
        "id": "-dG90ZnuBiTc"
      },
      "execution_count": null,
      "outputs": []
    },
    {
      "cell_type": "code",
      "source": [
        "# Returns all items for a given batch of pairs\n",
        "def batch2TrainData(voc, pair_batch):\n",
        "    # Sort the questions in descending length\n",
        "    pair_batch.sort(key=lambda x: len(x[0].split(\" \")), reverse=True)\n",
        "    input_batch, output_batch = [], []\n",
        "    for pair in pair_batch:\n",
        "        input_batch.append(pair[0])\n",
        "        output_batch.append(pair[1])\n",
        "    inp, lengths = inputVar(input_batch, voc)\n",
        "    # assert len(inp) == lengths[0]\n",
        "    output, mask, max_target_len = outputVar(output_batch, voc)\n",
        "    return inp, lengths, output, mask, max_target_len"
      ],
      "metadata": {
        "id": "iZs6EAHKB_3E"
      },
      "execution_count": null,
      "outputs": []
    },
    {
      "cell_type": "code",
      "source": [
        "# Example for validation\n",
        "small_batch_size = 5\n",
        "batches = batch2TrainData(voc, [random.choice(pairs) for _ in range(small_batch_size)])\n",
        "input_variable, lengths, target_variable, mask, max_target_len = batches\n",
        "\n",
        "print(\"input_variable:\")\n",
        "print(input_variable)\n",
        "print(\"lengths:\", lengths)\n",
        "print(\"target_variable:\")\n",
        "print(target_variable)\n",
        "print(\"mask:\")\n",
        "print(mask)\n",
        "print(\"max_target_len:\", max_target_len)"
      ],
      "metadata": {
        "colab": {
          "base_uri": "https://localhost:8080/"
        },
        "id": "kV8PwchlDAGk",
        "outputId": "214da2c9-6fcb-4f40-cd43-a3c633cdf2d0"
      },
      "execution_count": null,
      "outputs": [
        {
          "output_type": "stream",
          "name": "stdout",
          "text": [
            "input_variable:\n",
            "tensor([[  50,   25,   94,   50,  787],\n",
            "        [  92,  200,   25,   75,    6],\n",
            "        [   7, 2263,  359,    7,    2],\n",
            "        [ 278,    4,    7, 5936,    0],\n",
            "        [ 159,   76,  558,    6,    0],\n",
            "        [   6,   37,    6,    2,    0],\n",
            "        [ 158,    9,    2,    0,    0],\n",
            "        [  21,  494,    0,    0,    0],\n",
            "        [   4,    4,    0,    0,    0],\n",
            "        [   2,    2,    0,    0,    0]])\n",
            "lengths: tensor([10, 10,  7,  6,  3])\n",
            "target_variable:\n",
            "tensor([[ 213,  124,    7,   25, 5099],\n",
            "        [ 174,  115,   94,  387,    6],\n",
            "        [ 214,   36,  359,  349,    2],\n",
            "        [   4,  147,   83,    4,    0],\n",
            "        [   2,   76,   95,    2,    0],\n",
            "        [   0,  115,    4,    0,    0],\n",
            "        [   0,    6,    2,    0,    0],\n",
            "        [   0,    2,    0,    0,    0]])\n",
            "mask:\n",
            "tensor([[1, 1, 1, 1, 1],\n",
            "        [1, 1, 1, 1, 1],\n",
            "        [1, 1, 1, 1, 1],\n",
            "        [1, 1, 1, 1, 0],\n",
            "        [1, 1, 1, 1, 0],\n",
            "        [0, 1, 1, 0, 0],\n",
            "        [0, 1, 1, 0, 0],\n",
            "        [0, 1, 0, 0, 0]], dtype=torch.uint8)\n",
            "max_target_len: 8\n"
          ]
        }
      ]
    },
    {
      "cell_type": "markdown",
      "source": [
        "# Define Models"
      ],
      "metadata": {
        "id": "joJcH3iOk_ev"
      }
    },
    {
      "cell_type": "markdown",
      "source": [
        "Encoder"
      ],
      "metadata": {
        "id": "1jGyokuVlKmx"
      }
    },
    {
      "cell_type": "code",
      "source": [
        "class EncoderRNN(nn.Module):\n",
        "    def __init__(self, hidden_size, embedding, n_layers=1, dropout=0):\n",
        "        super(EncoderRNN, self).__init__()\n",
        "        self.n_layers = n_layers\n",
        "        self.hidden_size = hidden_size\n",
        "        self.embedding = embedding\n",
        "\n",
        "        # Initialize GRU; the input_size and hidden_size params are both set to 'hidden_size'\n",
        "        # because our input size is a word embedding with number of features == hidden_size\n",
        "        self.gru = nn.GRU(hidden_size, hidden_size, n_layers,\n",
        "                          dropout=(0 if n_layers == 1 else dropout), bidirectional=True)\n",
        "\n",
        "    def forward(self, input_seq, input_lengths, hidden=None):\n",
        "        # input_seq: batch of input sentences; shape=(max_length, batch_size)\n",
        "        # input_lengths: list of sentence lengths corresponding to each sentence in the batch\n",
        "        # hidden state, of shape: (n_layers x num_directions, batch_size, hidden_size)\n",
        "\n",
        "        # Convert word indices to embeddings\n",
        "        embedded = self.embedding(input_seq)\n",
        "\n",
        "        # Pack padded batch of sequences for RNN module\n",
        "        packed = torch.nn.utils.rnn.pack_padded_sequence(embedded, input_lengths)\n",
        "\n",
        "        # Forward pass through GRU\n",
        "        outputs, hidden = self.gru(packed, hidden)\n",
        "\n",
        "        # Unpack padding\n",
        "        outputs, _ = torch.nn.utils.rnn.pad_packed_sequence(outputs)\n",
        "\n",
        "        # Sum bidirectional GRU outputs\n",
        "        outputs = outputs[:, :, :self.hidden_size] + outputs[:, :, self.hidden_size:]\n",
        "\n",
        "        # Return output and final hidden state\n",
        "        return outputs, hidden"
      ],
      "metadata": {
        "id": "BE65zcZITuiN"
      },
      "execution_count": null,
      "outputs": []
    },
    {
      "cell_type": "markdown",
      "source": [
        "Attention"
      ],
      "metadata": {
        "id": "qjXSKhi7lNeg"
      }
    },
    {
      "cell_type": "code",
      "source": [
        "# Luong attention layer\n",
        "class Attn(torch.nn.Module):\n",
        "    def __init__(self, method, hidden_size):\n",
        "        super(Attn, self).__init__()\n",
        "        self.method = method\n",
        "        self.hidden_size = hidden_size\n",
        "\n",
        "    def dot_score(self, hidden, encoder_output):\n",
        "        # Element-Wise Multiply the current target decoder state with the encoder output and sum them\n",
        "        return torch.sum(hidden * encoder_output, dim=2)\n",
        "\n",
        "    def forward(self, hidden, encoder_outputs):\n",
        "        # hidden of shape: (1, batch_size, hidden_size)\n",
        "        # encoder_outputs of shape: (max_length, batch_size, hidden_size)\n",
        "        # (1, batch_size, hidden_size) * (max_length, batch_size, hidden_size) = (max_length, batch_size, hidden_size)\n",
        "\n",
        "        # Calculate the attention weights (energies)\n",
        "        attn_energies = self.dot_score(hidden, encoder_outputs)  # (max_length, batch_size)\n",
        "\n",
        "        # Transpose max_length and batch_size dimensions\n",
        "        attn_energies = attn_energies.t()  # (batch_size, max_length)\n",
        "\n",
        "        # Return the softmax normalized probability scores (with added dimension)\n",
        "        return F.softmax(attn_energies, dim=1).unsqueeze(1)  # (batch_size, 1, max_length)"
      ],
      "metadata": {
        "id": "NeuCssjHT1ea"
      },
      "execution_count": null,
      "outputs": []
    },
    {
      "cell_type": "markdown",
      "source": [
        "Decoder witn Attention"
      ],
      "metadata": {
        "id": "NaDBZDDQVFYm"
      }
    },
    {
      "cell_type": "code",
      "source": [
        "class LuongAttnDecoderRNN(nn.Module):\n",
        "    def __init__(self, attn_model, embedding, hidden_size, output_size, n_layers=1, dropout=0.1):\n",
        "        super(LuongAttnDecoderRNN, self).__init__()\n",
        "        self.attn_model = attn_model\n",
        "        self.hidden_size = hidden_size\n",
        "        self.output_size = output_size\n",
        "        self.n_layers = n_layers\n",
        "        self.dropout = dropout\n",
        "\n",
        "        # Define layers\n",
        "        self.embedding = embedding\n",
        "        self.embedding_dropout = nn.Dropout(dropout)\n",
        "        self.gru = nn.GRU(hidden_size, hidden_size, n_layers,\n",
        "                          dropout=(0 if n_layers == 1 else dropout))\n",
        "        self.concat = nn.Linear(hidden_size * 2, hidden_size)\n",
        "        self.out = nn.Linear(hidden_size, output_size)\n",
        "\n",
        "        self.attn = Attn(attn_model, hidden_size)\n",
        "\n",
        "    def forward(self, input_step, last_hidden, encoder_outputs):\n",
        "        # input_step: one time step (one word) of input sequence batch; shape=(1, batch_size)\n",
        "        # last_hidden: final hidden layer of GRU; shape=(n_Layers x num_directions, batch_size, hidden_size)\n",
        "        # encoder_outputs: encoder model's output; shape=(max_length, batch_size, hidden_size)\n",
        "        # Note: we run this one step (word) at a time\n",
        "\n",
        "        # Get embedding of current input word\n",
        "        embedded = self.embedding(input_step)\n",
        "        embedded = self.embedding_dropout(embedded)\n",
        "\n",
        "        # Forward through unidirectional GRU\n",
        "        rnn_output, hidden = self.gru(embedded, last_hidden)\n",
        "\n",
        "        # Calculate attention weights from the current GRU output\n",
        "        attn_weights = self.attn(rnn_output, encoder_outputs)\n",
        "\n",
        "        # Multiply attention weights to encoder outputs to get new \"weighted sum\" context vector\n",
        "        # (batch_size,1, max_length) bmm with (batch_size, max_length, hidden) = (batch_size,1, hidden)\n",
        "        context = attn_weights.bmm(encoder_outputs.transpose(0, 1))\n",
        "\n",
        "        # Concatenate weighted context vector and GRU output\n",
        "        rnn_output = rnn_output.squeeze(0)\n",
        "        context = context.squeeze(1)\n",
        "        concat_input = torch.cat((rnn_output, context), 1)\n",
        "        concat_output = torch.tanh(self.concat(concat_input))\n",
        "\n",
        "        # Predict next word using Luong eq. 6\n",
        "        output = self.out(concat_output)\n",
        "        output = F.softmax(output, dim=1)\n",
        "\n",
        "        # Return output and final hidden state\n",
        "        return output, hidden\n",
        "\n",
        "\n",
        "        #output: softmax normalized tensor giving probabilities of each word being the correct next word in the decoded sequence\n",
        "        #shape=(batch_size, voc.num_words)\n",
        "        # hidden: final hidden state of GRU; shape=(n_layers x num_directions, batch_size, hidden_size)"
      ],
      "metadata": {
        "id": "hBat2nMQWCdB"
      },
      "execution_count": null,
      "outputs": []
    },
    {
      "cell_type": "markdown",
      "source": [
        "# Loss fct & single training iteration"
      ],
      "metadata": {
        "id": "_Nb9ajdNlTuw"
      }
    },
    {
      "cell_type": "markdown",
      "source": [
        "Masked loss"
      ],
      "metadata": {
        "id": "d5Kwt5iJlaGj"
      }
    },
    {
      "cell_type": "code",
      "source": [
        "def maskNLLLoss(decoder_out, target, mask):\n",
        "    # Convert mask to boolean tensor (CRITICAL)\n",
        "    bool_mask = mask.bool()\n",
        "    nTotal = bool_mask.sum().item()  # Number of non-padded tokens\n",
        "\n",
        "    # Handle empty mask case (no valid tokens)\n",
        "    if nTotal == 0:\n",
        "        return torch.tensor(0.0, device=decoder_out.device), 0\n",
        "\n",
        "    # Reshape target for gathering\n",
        "    target = target.view(-1, 1)\n",
        "    gathered_tensor = torch.gather(decoder_out, 1, target)\n",
        "\n",
        "    # Calculate loss per token\n",
        "    crossEntropy = -torch.log(gathered_tensor.squeeze(1))\n",
        "\n",
        "    # Apply boolean mask and calculate mean loss\n",
        "    loss = crossEntropy.masked_select(bool_mask).mean()\n",
        "\n",
        "    return loss, nTotal"
      ],
      "metadata": {
        "id": "Z3CwPltyYatB"
      },
      "execution_count": null,
      "outputs": []
    },
    {
      "cell_type": "markdown",
      "source": [
        "Single training iteration"
      ],
      "metadata": {
        "id": "dGpizC0-laxw"
      }
    },
    {
      "cell_type": "code",
      "source": [
        "# Visualizing what's happening in one iteration. Only run this for visualization.\n",
        "small_batch_size = 5\n",
        "batches = batch2TrainData(voc, [random.choice(pairs) for _ in range(small_batch_size)])\n",
        "input_variable, lengths, target_variable, mask, max_target_len = batches\n",
        "\n",
        "print(\"input_variable shape:\", input_variable.shape)\n",
        "print(\"lengths shape:\", lengths.shape)\n",
        "print(\"target_variable shape:\", target_variable.shape)\n",
        "print(\"mask shape:\", mask.shape)\n",
        "print(\"max_target_len:\", max_target_len)\n",
        "\n",
        "# Define the parameters\n",
        "hidden_size = 500\n",
        "encoder_n_layers = 2\n",
        "decoder_n_layers = 2\n",
        "dropout = 0.1\n",
        "attn_model = 'dot'\n",
        "embedding = nn.Embedding(voc.num_words, hidden_size)\n",
        "\n",
        "# Define the encoder and Decoder\n",
        "encoder = EncoderRNN(hidden_size, embedding, encoder_n_layers, dropout)\n",
        "decoder = LuongAttnDecoderRNN(attn_model, embedding, hidden_size, voc.num_words, decoder_n_layers, dropout)\n",
        "encoder = encoder.to(device)\n",
        "decoder = decoder.to(device)\n",
        "# Ensure dropout layers are in train mode\n",
        "encoder.train()\n",
        "decoder.train()\n",
        "\n",
        "# Initialize optimizers\n",
        "encoder_optimizer = optim.Adam(encoder.parameters(), lr=0.0001)\n",
        "decoder_optimizer = optim.Adam(decoder.parameters(), lr=0.0001)\n",
        "encoder_optimizer.zero_grad()\n",
        "decoder_optimizer.zero_grad()\n",
        "\n",
        "input_variable = input_variable.to(device)\n",
        "lengths = lengths.to(device)\n",
        "target_variable = target_variable.to(device)\n",
        "mask = mask.to(device)\n",
        "\n",
        "loss = 0\n",
        "print_losses = []\n",
        "n_totals = 0\n",
        "\n",
        "encoder_outputs, encoder_hidden = encoder(input_variable, lengths.cpu())\n",
        "print(\"Encoder Outputs Shape:\", encoder_outputs.shape)\n",
        "print(\"Last Encoder Hidden Shape\", encoder_hidden.shape)\n",
        "\n",
        "decoder_input = torch.LongTensor([[SOS_token for _ in range(small_batch_size)]])\n",
        "decoder_input = decoder_input.to(device)\n",
        "print(\"Initial Decoder Input Shape:\", decoder_input.shape)\n",
        "print(decoder_input)\n",
        "\n",
        "# Set initial decoder hidden state to the encoder's final hidden state\n",
        "decoder_hidden = encoder_hidden[:decoder.n_layers]\n",
        "print(\"Initial Decoder hidden state shape:\", decoder_hidden.shape)\n",
        "print(\"\\n\")\n",
        "print(\"---------------------------------------------\")\n",
        "print(\"Now Let's look what's happening in every timestep of the GRU!\")\n",
        "print(\"---------------------------------------------\")\n",
        "print(\"\\n\")\n",
        "\n",
        "\n",
        "# Assume we are using Teacher Forcing\n",
        "for t in range(max_target_len):\n",
        "    decoder_output, decoder_hidden = decoder(decoder_input, decoder_hidden, encoder_outputs)\n",
        "    print(\"Decoder Output Shape:\", decoder_output.shape)\n",
        "    print(\"Decoder Hidden Shape:\", decoder_hidden.shape)\n",
        "\n",
        "    # Teacher forcing: next input is current target\n",
        "    decoder_input = target_variable[t].view(1, -1)\n",
        "    print(\"The target variable at the current timestep before reshaping:\", target_variable[t])\n",
        "    print(\"The target variable at the current timestep shape before reshaping:\", target_variable[t].shape)\n",
        "    print(\"The Decoder input shape (reshape the target variable):\", decoder_input.shape)\n",
        "\n",
        "    # Calculate and accumulate loss\n",
        "    print(\"The mask at the current timestep:\", mask[t])\n",
        "    print(\"The mask at the current timestep shape:\", mask[t].shape)\n",
        "    mask_loss, nTotal = maskNLLLoss(decoder_output, target_variable[t], mask[t])\n",
        "    print(\"Mask Loss:\", mask_loss)\n",
        "    print(\"Total:\", nTotal)\n",
        "    loss += mask_loss\n",
        "    print_losses.append(mask_loss.item() * nTotal)\n",
        "    n_totals += nTotal\n",
        "\n",
        "    print(n_totals)\n",
        "    encoder_optimizer.step()\n",
        "    decoder_optimizer.step()\n",
        "    returned_loss = sum(print_losses) / n_totals\n",
        "    print(\"Returned Loss: \", returned_loss)\n",
        "    print(\"\\n\")\n",
        "    print(\"----------------ONE TIMESTEP----------------\")\n",
        "    print(\"\\n\")"
      ],
      "metadata": {
        "colab": {
          "base_uri": "https://localhost:8080/"
        },
        "id": "58QvYqZkZyfq",
        "outputId": "7a885f96-4ee0-420a-a633-8c9fd333f7ba"
      },
      "execution_count": null,
      "outputs": [
        {
          "output_type": "stream",
          "name": "stdout",
          "text": [
            "input_variable shape: torch.Size([8, 5])\n",
            "lengths shape: torch.Size([5])\n",
            "target_variable shape: torch.Size([10, 5])\n",
            "mask shape: torch.Size([10, 5])\n",
            "max_target_len: 10\n",
            "Encoder Outputs Shape: torch.Size([8, 5, 500])\n",
            "Last Encoder Hidden Shape torch.Size([4, 5, 500])\n",
            "Initial Decoder Input Shape: torch.Size([1, 5])\n",
            "tensor([[1, 1, 1, 1, 1]], device='cuda:0')\n",
            "Initial Decoder hidden state shape: torch.Size([2, 5, 500])\n",
            "\n",
            "\n",
            "---------------------------------------------\n",
            "Now Let's look what's happening in every timestep of the GRU!\n",
            "---------------------------------------------\n",
            "\n",
            "\n",
            "Decoder Output Shape: torch.Size([5, 7826])\n",
            "Decoder Hidden Shape: torch.Size([2, 5, 500])\n",
            "The target variable at the current timestep before reshaping: tensor([ 25,  94, 318, 100, 124], device='cuda:0')\n",
            "The target variable at the current timestep shape before reshaping: torch.Size([5])\n",
            "The Decoder input shape (reshape the target variable): torch.Size([1, 5])\n",
            "The mask at the current timestep: tensor([1, 1, 1, 1, 1], device='cuda:0', dtype=torch.uint8)\n",
            "The mask at the current timestep shape: torch.Size([5])\n",
            "Mask Loss: tensor(8.9311, device='cuda:0', grad_fn=<MeanBackward0>)\n",
            "Total: 5\n",
            "5\n",
            "Returned Loss:  8.931086540222168\n",
            "\n",
            "\n",
            "----------------ONE TIMESTEP----------------\n",
            "\n",
            "\n",
            "Decoder Output Shape: torch.Size([5, 7826])\n",
            "Decoder Hidden Shape: torch.Size([2, 5, 500])\n",
            "The target variable at the current timestep before reshaping: tensor([200,  27,   4, 115,   7], device='cuda:0')\n",
            "The target variable at the current timestep shape before reshaping: torch.Size([5])\n",
            "The Decoder input shape (reshape the target variable): torch.Size([1, 5])\n",
            "The mask at the current timestep: tensor([1, 1, 1, 1, 1], device='cuda:0', dtype=torch.uint8)\n",
            "The mask at the current timestep shape: torch.Size([5])\n",
            "Mask Loss: tensor(8.9788, device='cuda:0', grad_fn=<MeanBackward0>)\n",
            "Total: 5\n",
            "10\n",
            "Returned Loss:  8.954922676086426\n",
            "\n",
            "\n",
            "----------------ONE TIMESTEP----------------\n",
            "\n",
            "\n",
            "Decoder Output Shape: torch.Size([5, 7826])\n",
            "Decoder Hidden Shape: torch.Size([2, 5, 500])\n",
            "The target variable at the current timestep before reshaping: tensor([278, 542,   2,  45,  24], device='cuda:0')\n",
            "The target variable at the current timestep shape before reshaping: torch.Size([5])\n",
            "The Decoder input shape (reshape the target variable): torch.Size([1, 5])\n",
            "The mask at the current timestep: tensor([1, 1, 1, 1, 1], device='cuda:0', dtype=torch.uint8)\n",
            "The mask at the current timestep shape: torch.Size([5])\n",
            "Mask Loss: tensor(8.9498, device='cuda:0', grad_fn=<MeanBackward0>)\n",
            "Total: 5\n",
            "15\n",
            "Returned Loss:  8.953217188517252\n",
            "\n",
            "\n",
            "----------------ONE TIMESTEP----------------\n",
            "\n",
            "\n",
            "Decoder Output Shape: torch.Size([5, 7826])\n",
            "Decoder Hidden Shape: torch.Size([2, 5, 500])\n",
            "The target variable at the current timestep before reshaping: tensor([50,  6,  0,  6, 50], device='cuda:0')\n",
            "The target variable at the current timestep shape before reshaping: torch.Size([5])\n",
            "The Decoder input shape (reshape the target variable): torch.Size([1, 5])\n",
            "The mask at the current timestep: tensor([1, 1, 0, 1, 1], device='cuda:0', dtype=torch.uint8)\n",
            "The mask at the current timestep shape: torch.Size([5])\n",
            "Mask Loss: tensor(8.9657, device='cuda:0', grad_fn=<MeanBackward0>)\n",
            "Total: 4\n",
            "19\n",
            "Returned Loss:  8.955835141633687\n",
            "\n",
            "\n",
            "----------------ONE TIMESTEP----------------\n",
            "\n",
            "\n",
            "Decoder Output Shape: torch.Size([5, 7826])\n",
            "Decoder Hidden Shape: torch.Size([2, 5, 500])\n",
            "The target variable at the current timestep before reshaping: tensor([25,  2,  0,  2,  4], device='cuda:0')\n",
            "The target variable at the current timestep shape before reshaping: torch.Size([5])\n",
            "The Decoder input shape (reshape the target variable): torch.Size([1, 5])\n",
            "The mask at the current timestep: tensor([1, 1, 0, 1, 1], device='cuda:0', dtype=torch.uint8)\n",
            "The mask at the current timestep shape: torch.Size([5])\n",
            "Mask Loss: tensor(8.9644, device='cuda:0', grad_fn=<MeanBackward0>)\n",
            "Total: 4\n",
            "23\n",
            "Returned Loss:  8.95732357191003\n",
            "\n",
            "\n",
            "----------------ONE TIMESTEP----------------\n",
            "\n",
            "\n",
            "Decoder Output Shape: torch.Size([5, 7826])\n",
            "Decoder Hidden Shape: torch.Size([2, 5, 500])\n",
            "The target variable at the current timestep before reshaping: tensor([94,  0,  0,  0, 25], device='cuda:0')\n",
            "The target variable at the current timestep shape before reshaping: torch.Size([5])\n",
            "The Decoder input shape (reshape the target variable): torch.Size([1, 5])\n",
            "The mask at the current timestep: tensor([1, 0, 0, 0, 1], device='cuda:0', dtype=torch.uint8)\n",
            "The mask at the current timestep shape: torch.Size([5])\n",
            "Mask Loss: tensor(8.9588, device='cuda:0', grad_fn=<MeanBackward0>)\n",
            "Total: 2\n",
            "25\n",
            "Returned Loss:  8.9574422454834\n",
            "\n",
            "\n",
            "----------------ONE TIMESTEP----------------\n",
            "\n",
            "\n",
            "Decoder Output Shape: torch.Size([5, 7826])\n",
            "Decoder Hidden Shape: torch.Size([2, 5, 500])\n",
            "The target variable at the current timestep before reshaping: tensor([  4,   0,   0,   0, 200], device='cuda:0')\n",
            "The target variable at the current timestep shape before reshaping: torch.Size([5])\n",
            "The Decoder input shape (reshape the target variable): torch.Size([1, 5])\n",
            "The mask at the current timestep: tensor([1, 0, 0, 0, 1], device='cuda:0', dtype=torch.uint8)\n",
            "The mask at the current timestep shape: torch.Size([5])\n",
            "Mask Loss: tensor(9.0089, device='cuda:0', grad_fn=<MeanBackward0>)\n",
            "Total: 2\n",
            "27\n",
            "Returned Loss:  8.9612567336471\n",
            "\n",
            "\n",
            "----------------ONE TIMESTEP----------------\n",
            "\n",
            "\n",
            "Decoder Output Shape: torch.Size([5, 7826])\n",
            "Decoder Hidden Shape: torch.Size([2, 5, 500])\n",
            "The target variable at the current timestep before reshaping: tensor([   2,    0,    0,    0, 6690], device='cuda:0')\n",
            "The target variable at the current timestep shape before reshaping: torch.Size([5])\n",
            "The Decoder input shape (reshape the target variable): torch.Size([1, 5])\n",
            "The mask at the current timestep: tensor([1, 0, 0, 0, 1], device='cuda:0', dtype=torch.uint8)\n",
            "The mask at the current timestep shape: torch.Size([5])\n",
            "Mask Loss: tensor(8.9991, device='cuda:0', grad_fn=<MeanBackward0>)\n",
            "Total: 2\n",
            "29\n",
            "Returned Loss:  8.963864359362372\n",
            "\n",
            "\n",
            "----------------ONE TIMESTEP----------------\n",
            "\n",
            "\n",
            "Decoder Output Shape: torch.Size([5, 7826])\n",
            "Decoder Hidden Shape: torch.Size([2, 5, 500])\n",
            "The target variable at the current timestep before reshaping: tensor([ 0,  0,  0,  0, 66], device='cuda:0')\n",
            "The target variable at the current timestep shape before reshaping: torch.Size([5])\n",
            "The Decoder input shape (reshape the target variable): torch.Size([1, 5])\n",
            "The mask at the current timestep: tensor([0, 0, 0, 0, 1], device='cuda:0', dtype=torch.uint8)\n",
            "The mask at the current timestep shape: torch.Size([5])\n",
            "Mask Loss: tensor(8.9548, device='cuda:0', grad_fn=<MeanBackward0>)\n",
            "Total: 1\n",
            "30\n",
            "Returned Loss:  8.963562965393066\n",
            "\n",
            "\n",
            "----------------ONE TIMESTEP----------------\n",
            "\n",
            "\n",
            "Decoder Output Shape: torch.Size([5, 7826])\n",
            "Decoder Hidden Shape: torch.Size([2, 5, 500])\n",
            "The target variable at the current timestep before reshaping: tensor([0, 0, 0, 0, 2], device='cuda:0')\n",
            "The target variable at the current timestep shape before reshaping: torch.Size([5])\n",
            "The Decoder input shape (reshape the target variable): torch.Size([1, 5])\n",
            "The mask at the current timestep: tensor([0, 0, 0, 0, 1], device='cuda:0', dtype=torch.uint8)\n",
            "The mask at the current timestep shape: torch.Size([5])\n",
            "Mask Loss: tensor(8.9846, device='cuda:0', grad_fn=<MeanBackward0>)\n",
            "Total: 1\n",
            "31\n",
            "Returned Loss:  8.964241027832031\n",
            "\n",
            "\n",
            "----------------ONE TIMESTEP----------------\n",
            "\n",
            "\n"
          ]
        }
      ]
    },
    {
      "cell_type": "markdown",
      "source": [
        "# Training function"
      ],
      "metadata": {
        "id": "W0SqofUAliGP"
      }
    },
    {
      "cell_type": "code",
      "source": [
        "def train(input_variable, lengths, target_variable, mask, max_target_len, encoder, decoder, embedding,\n",
        "          encoder_optimizer, decoder_optimizer, batch_size, clip, max_length=MAX_LENGTH):\n",
        "\n",
        "    # Zero gradients\n",
        "    encoder_optimizer.zero_grad()\n",
        "    decoder_optimizer.zero_grad()\n",
        "\n",
        "    # Set device options\n",
        "    input_variable = input_variable.to(device)\n",
        "\n",
        "    target_variable = target_variable.to(device)\n",
        "    mask = mask.to(device)\n",
        "\n",
        "    # Initialize variables\n",
        "    loss = 0\n",
        "    print_losses = []\n",
        "    n_totals = 0\n",
        "\n",
        "    # Forward pass through encoder\n",
        "    encoder_outputs, encoder_hidden = encoder(input_variable, lengths)\n",
        "\n",
        "    # Create initial decoder input (start with SOS tokens for each sentence)\n",
        "    decoder_input = torch.LongTensor([[SOS_token for _ in range(batch_size)]])\n",
        "    decoder_input = decoder_input.to(device)\n",
        "\n",
        "    # Set initial decoder hidden state to the encoder's final hidden state\n",
        "    decoder_hidden = encoder_hidden[:decoder.n_layers]\n",
        "\n",
        "    # Determine if we are using teacher forcing this iteration\n",
        "    use_teacher_forcing = True if random.random() < teacher_forcing_ratio else False\n",
        "\n",
        "    # Forward batch of sequences through decoder one time step at a time\n",
        "    if use_teacher_forcing:\n",
        "        for t in range(max_target_len):\n",
        "            decoder_output, decoder_hidden = decoder(decoder_input, decoder_hidden, encoder_outputs)\n",
        "            # Teacher forcing: next input is current target\n",
        "            decoder_input = target_variable[t].view(1, -1)\n",
        "            # Calculate and accumulate loss\n",
        "            mask_loss, nTotal = maskNLLLoss(decoder_output, target_variable[t], mask[t])\n",
        "            loss += mask_loss\n",
        "            print_losses.append(mask_loss.item() * nTotal)\n",
        "            n_totals += nTotal\n",
        "    else:\n",
        "        for t in range(max_target_len):\n",
        "            decoder_output, decoder_hidden = decoder(decoder_input, decoder_hidden, encoder_outputs)\n",
        "            # No teacher forcing: next input is decoder's own current output\n",
        "            _, topi = decoder_output.topk(1)\n",
        "            decoder_input = torch.LongTensor([[topi[i][0] for i in range(batch_size)]])\n",
        "            decoder_input = decoder_input.to(device)\n",
        "            # Calculate and accumulate loss\n",
        "            mask_loss, nTotal = maskNLLLoss(decoder_output, target_variable[t], mask[t])\n",
        "            loss += mask_loss\n",
        "            print_losses.append(mask_loss.item() * nTotal)\n",
        "            n_totals += nTotal\n",
        "\n",
        "    # Perform backpropagation\n",
        "    loss.backward()\n",
        "\n",
        "    # Clip gradients: gradients are modified in place\n",
        "    _ = torch.nn.utils.clip_grad_norm_(encoder.parameters(), clip)\n",
        "    _ = torch.nn.utils.clip_grad_norm_(decoder.parameters(), clip)\n",
        "\n",
        "    # Adjust model weights\n",
        "    encoder_optimizer.step()\n",
        "    decoder_optimizer.step()\n",
        "\n",
        "    # With this safe division:\n",
        "    if n_totals == 0:\n",
        "        return 0.0  # Avoid division by zero\n",
        "    else:\n",
        "        return sum(print_losses) / n_totals"
      ],
      "metadata": {
        "id": "ymLy8UeydOiK"
      },
      "execution_count": null,
      "outputs": []
    },
    {
      "cell_type": "markdown",
      "source": [
        "# training iterations"
      ],
      "metadata": {
        "id": "wArsUupGfXRW"
      }
    },
    {
      "cell_type": "code",
      "source": [
        "# Define training parameters\n",
        "model_name = 'chatbot_model'\n",
        "n_iteration = 5000  # Number of training steps\n",
        "batch_size = 64\n",
        "clip = 50.0  # Gradient clipping threshold\n",
        "teacher_forcing_ratio = 1.0  # Start with full teacher forcing\n",
        "learning_rate = 0.0001\n",
        "print_every = 100  # Print loss every N batches\n",
        "\n",
        "# Initialize models and optimizers\n",
        "hidden_size = 500\n",
        "encoder_n_layers = 2\n",
        "decoder_n_layers = 2\n",
        "dropout = 0.1\n",
        "attn_model = 'dot'\n",
        "\n",
        "embedding = nn.Embedding(voc.num_words, hidden_size)\n",
        "encoder = EncoderRNN(hidden_size, embedding, encoder_n_layers, dropout)\n",
        "decoder = LuongAttnDecoderRNN(attn_model, embedding, hidden_size, voc.num_words, decoder_n_layers, dropout)\n",
        "encoder = encoder.to(device)\n",
        "decoder = decoder.to(device)\n",
        "\n",
        "encoder_optimizer = optim.Adam(encoder.parameters(), lr=learning_rate)\n",
        "decoder_optimizer = optim.Adam(decoder.parameters(), lr=learning_rate * 5.0)\n",
        "\n"
      ],
      "metadata": {
        "id": "MB0f50QFgEO3"
      },
      "execution_count": null,
      "outputs": []
    },
    {
      "cell_type": "code",
      "source": [
        "import time\n",
        "import matplotlib.pyplot as plt\n",
        "from IPython.display import clear_output\n",
        "\n",
        "def trainIters(model_name, voc, pairs, encoder, decoder, encoder_optimizer,\n",
        "               decoder_optimizer, embedding, n_iteration, batch_size, clip,\n",
        "               print_every=100, plot_every=100, save_every=500):\n",
        "    # Initialize metrics tracking\n",
        "    start_iteration = 1\n",
        "    print_loss_total = 0  # Reset every print_every\n",
        "    plot_loss_total = 0   # Reset every plot_every\n",
        "    all_losses = []\n",
        "    start_time = time.time()\n",
        "\n",
        "    print(f\"Starting training for {n_iteration} iterations...\")\n",
        "    print(f\"Batch size: {batch_size}, Print every: {print_every}, Save every: {save_every}\")\n",
        "\n",
        "    for iteration in range(start_iteration, n_iteration + 1):\n",
        "        # Get training batch\n",
        "        training_batch = batch2TrainData(voc, [random.choice(pairs) for _ in range(batch_size)])\n",
        "        input_variable, lengths, target_variable, mask, max_target_len = training_batch\n",
        "\n",
        "        lengths = lengths.cpu()\n",
        "\n",
        "        # Run training iteration\n",
        "        loss = train(input_variable, lengths, target_variable, mask, max_target_len,\n",
        "                     encoder, decoder, embedding, encoder_optimizer, decoder_optimizer,\n",
        "                     batch_size, clip)\n",
        "\n",
        "        # Update tracking metrics\n",
        "        print_loss_total += loss\n",
        "        plot_loss_total += loss\n",
        "        all_losses.append(loss)\n",
        "\n",
        "        # Calculate progress metrics\n",
        "        time_elapsed = time.time() - start_time\n",
        "        iterations_done = iteration - start_iteration + 1\n",
        "        time_per_iter = time_elapsed / iterations_done\n",
        "        remaining_iters = n_iteration - iteration\n",
        "        eta_seconds = remaining_iters * time_per_iter\n",
        "        eta_str = time.strftime(\"%H:%M:%S\", time.gmtime(eta_seconds))\n",
        "\n",
        "        # Print progress\n",
        "        if iteration % print_every == 0:\n",
        "            print_loss_avg = print_loss_total / print_every\n",
        "            print_loss_total = 0\n",
        "\n",
        "            progress_percent = iteration / n_iteration * 100\n",
        "            print(f\"[{time.strftime('%H:%M:%S')}] Iteration: {iteration}/{n_iteration} ({progress_percent:.1f}%)\")\n",
        "            print(f\"  Loss: {print_loss_avg:.4f} | ETA: {eta_str}\")\n",
        "            print(f\"  Avg time per iter: {time_per_iter:.2f}s | Elapsed: {time_elapsed/60:.1f}min\")\n",
        "\n",
        "            # Optional: Print sample prediction\n",
        "            if iteration % (print_every * 5) == 0:\n",
        "                sample_prediction(encoder, decoder, voc, pairs)\n",
        "\n",
        "        # Update plot\n",
        "        if iteration % plot_every == 0:\n",
        "            plot_loss_avg = plot_loss_total / plot_every\n",
        "            plot_loss_total = 0\n",
        "            clear_output(wait=True)\n",
        "            plt.figure(figsize=(10, 5))\n",
        "            plt.plot(all_losses, label='Training Loss')\n",
        "            plt.xlabel('Iterations')\n",
        "            plt.ylabel('Loss')\n",
        "            plt.title(f'Training Progress (Current Loss: {plot_loss_avg:.4f})')\n",
        "            plt.grid(True)\n",
        "            plt.legend()\n",
        "            plt.show()\n",
        "\n",
        "        # Save checkpoint\n",
        "        if iteration % save_every == 0:\n",
        "            save_path = f\"{model_name}_{iteration}.pth\"\n",
        "            torch.save({\n",
        "                'iteration': iteration,\n",
        "                'encoder': encoder.state_dict(),\n",
        "                'decoder': decoder.state_dict(),\n",
        "                'encoder_optimizer': encoder_optimizer.state_dict(),\n",
        "                'decoder_optimizer': decoder_optimizer.state_dict(),\n",
        "                'loss': loss,\n",
        "                'voc': voc\n",
        "            }, save_path)\n",
        "            print(f\"Saved checkpoint to {save_path}\")\n",
        "\n",
        "    # Save final model\n",
        "    final_save_path = f\"{model_name}_final.pth\"\n",
        "    torch.save({\n",
        "        'encoder': encoder.state_dict(),\n",
        "        'decoder': decoder.state_dict(),\n",
        "        'voc': voc\n",
        "    }, final_save_path)\n",
        "    print(f\"Training complete! Final model saved to {final_save_path}\")\n",
        "\n",
        "    return all_losses"
      ],
      "metadata": {
        "id": "PUwuK4D9keQe"
      },
      "execution_count": null,
      "outputs": []
    },
    {
      "cell_type": "markdown",
      "source": [
        "for the metrics"
      ],
      "metadata": {
        "id": "Kao_B0Ma6HFZ"
      }
    },
    {
      "cell_type": "code",
      "source": [
        "def sample_prediction(encoder, decoder, voc, pairs, n=3):\n",
        "    \"\"\"Generate sample predictions during training\"\"\"\n",
        "    encoder.eval()\n",
        "    decoder.eval()\n",
        "\n",
        "    print(\"\\nSample Predictions:\")\n",
        "    for _ in range(n):\n",
        "        pair = random.choice(pairs)\n",
        "        input_sentence = pair[0]\n",
        "        target_sentence = pair[1]\n",
        "\n",
        "        # Format input sentence\n",
        "        input_tokens = [word for word in input_sentence.split(' ') if word]\n",
        "        input_indexes = [voc.word2index[word] for word in input_tokens]\n",
        "        input_batch = torch.LongTensor([input_indexes]).transpose(0, 1).to(device)\n",
        "        lengths = torch.tensor([len(input_indexes)]).cpu()\n",
        "\n",
        "        # Generate response\n",
        "        response = generate_response(encoder, decoder, voc, input_batch, lengths)\n",
        "\n",
        "        print(f\"Input: {input_sentence}\")\n",
        "        print(f\"Target: {target_sentence}\")\n",
        "        print(f\"Model: {response}\\n\")\n",
        "\n",
        "    encoder.train()\n",
        "    decoder.train()\n",
        "\n",
        "\n",
        "def generate_response(encoder, decoder, voc, input_batch, input_length, max_length=MAX_LENGTH):\n",
        "    \"\"\"Generate response from input sequence\"\"\"\n",
        "    # Forward pass through encoder\n",
        "    encoder_outputs, encoder_hidden = encoder(input_batch, input_length)\n",
        "\n",
        "    # Create decoder input\n",
        "    decoder_input = torch.LongTensor([[SOS_token]]).to(device)\n",
        "    decoder_hidden = encoder_hidden[:decoder.n_layers]\n",
        "\n",
        "    decoded_words = []\n",
        "    for _ in range(max_length):\n",
        "        decoder_output, decoder_hidden = decoder(decoder_input, decoder_hidden, encoder_outputs)\n",
        "\n",
        "        # Choose top word\n",
        "        _, topi = decoder_output.topk(1)\n",
        "        ni = topi.squeeze().item()\n",
        "\n",
        "        if ni == EOS_token:\n",
        "            break\n",
        "        else:\n",
        "            decoded_words.append(voc.index2word[ni])\n",
        "\n",
        "        # Next input is current output\n",
        "        decoder_input = torch.LongTensor([[ni]]).to(device)\n",
        "\n",
        "    return ' '.join(decoded_words)"
      ],
      "metadata": {
        "id": "TgZRJ49XmCfm"
      },
      "execution_count": null,
      "outputs": []
    },
    {
      "cell_type": "markdown",
      "source": [
        "start training"
      ],
      "metadata": {
        "id": "zMblaCTs6Is_"
      }
    },
    {
      "cell_type": "code",
      "source": [
        "# Training parameters\n",
        "model_name = 'chatbot'\n",
        "n_iteration = 10000 #save model each 1000 iterations\n",
        "batch_size = 64\n",
        "clip = 50.0\n",
        "\n",
        "\n",
        "# Start training\n",
        "loss_history = trainIters(\n",
        "    model_name=model_name,\n",
        "    voc=voc,\n",
        "    pairs=pairs,\n",
        "    encoder=encoder,\n",
        "    decoder=decoder,\n",
        "    encoder_optimizer=encoder_optimizer,\n",
        "    decoder_optimizer=decoder_optimizer,\n",
        "    embedding=embedding,\n",
        "    n_iteration=n_iteration,\n",
        "    batch_size=batch_size,\n",
        "    clip=clip,\n",
        "    print_every=100,    # Print metrics every 100 iterations\n",
        "    plot_every=200,     # Update plot every 200 iterations\n",
        "    save_every=1000     # Save checkpoint every 1000 iterations\n",
        ")\n",
        "\n",
        "# ETA 8min"
      ],
      "metadata": {
        "colab": {
          "base_uri": "https://localhost:8080/",
          "height": 523
        },
        "id": "17uAZmFgmMlN",
        "outputId": "7394d98f-23b5-4f0f-a11f-df2658193779"
      },
      "execution_count": null,
      "outputs": [
        {
          "output_type": "display_data",
          "data": {
            "text/plain": [
              "<Figure size 1000x500 with 1 Axes>"
            ],
            "image/png": "[encoded data removed]"
          },
          "metadata": {}
        },
        {
          "output_type": "stream",
          "name": "stdout",
          "text": [
            "Saved checkpoint to chatbot_10000.pth\n",
            "Training complete! Final model saved to chatbot_final.pth\n"
          ]
        }
      ]
    },
    {
      "cell_type": "markdown",
      "source": [
        "# chatting functions"
      ],
      "metadata": {
        "id": "92HBaQ-2j_OJ"
      }
    },
    {
      "cell_type": "code",
      "source": [
        "class GreedySearchDecoder(nn.Module):\n",
        "    def __init__(self, encoder, decoder):\n",
        "        super(GreedySearchDecoder, self).__init__()\n",
        "        self.encoder = encoder\n",
        "        self.decoder = decoder\n",
        "\n",
        "    def forward(self, input_seq, input_length, max_length):\n",
        "        # Ensure lengths stay on CPU\n",
        "        if input_length.is_cuda:\n",
        "            input_length = input_length.cpu()\n",
        "\n",
        "        # Forward pass through encoder\n",
        "        encoder_outputs, encoder_hidden = self.encoder(input_seq, input_length)\n",
        "\n",
        "        # Prepare decoder initial state\n",
        "        decoder_hidden = encoder_hidden[:self.decoder.n_layers]\n",
        "\n",
        "        # Initialize decoder input with SOS token\n",
        "        decoder_input = torch.ones(1, 1, device=device, dtype=torch.long) * SOS_token\n",
        "\n",
        "        # Track decoded tokens\n",
        "        decoded_tokens = []\n",
        "\n",
        "        for _ in range(max_length):\n",
        "            decoder_output, decoder_hidden = self.decoder(\n",
        "                decoder_input, decoder_hidden, encoder_outputs\n",
        "            )\n",
        "\n",
        "            # Get most likely token\n",
        "            _, topi = decoder_output.topk(1)\n",
        "            ni = topi.squeeze().item()\n",
        "\n",
        "            # Stop at EOS token\n",
        "            if ni == EOS_token:\n",
        "                break\n",
        "\n",
        "            decoded_tokens.append(ni)\n",
        "            decoder_input = torch.LongTensor([[ni]]).to(device)\n",
        "\n",
        "        return decoded_tokens"
      ],
      "metadata": {
        "id": "B1OTi6yEjvGo"
      },
      "execution_count": null,
      "outputs": []
    },
    {
      "cell_type": "code",
      "source": [
        "def chat(encoder, decoder, voc):\n",
        "    encoder.eval()\n",
        "    decoder.eval()\n",
        "    searcher = GreedySearchDecoder(encoder, decoder)\n",
        "\n",
        "    print(\"Chat with the bot (type 'quit' or 'exit' or 'q' to exit)\")\n",
        "    while True:\n",
        "        try:\n",
        "            input_sentence = input(\"You: \")\n",
        "            if input_sentence.lower() in ['quit', 'exit', 'q']:\n",
        "                break\n",
        "\n",
        "            # Normalize and tokenize\n",
        "            input_sentence = normalizeString(input_sentence)\n",
        "            tokens = [word for word in input_sentence.split(' ') if word]\n",
        "\n",
        "            # Convert to indexes with UNK handling\n",
        "            indexes = []\n",
        "            for word in tokens:\n",
        "                if word in voc.word2index:\n",
        "                    indexes.append(voc.word2index[word])\n",
        "                else:\n",
        "                    indexes.append(UNK_token)  # Use unknown token\n",
        "            indexes.append(EOS_token)\n",
        "\n",
        "            # Create tensors - LENGTHS MUST STAY ON CPU\n",
        "            lengths = torch.tensor([len(indexes)])\n",
        "            input_batch = torch.LongTensor([indexes]).transpose(0, 1).to(device)\n",
        "\n",
        "            # Decode response\n",
        "            tokens = searcher(input_batch, lengths, MAX_LENGTH)\n",
        "            decoded_words = [voc.index2word[token] for token in tokens]\n",
        "\n",
        "            # Format response (remove special tokens)\n",
        "            response = ' '.join([word for word in decoded_words\n",
        "                                if word not in ['EOS', 'PAD', 'SOS', '<eos>', '<pad>', '<sos>']])\n",
        "            print(f\"Bot: {response}\")\n",
        "\n",
        "        except Exception as e:\n",
        "            print(f\"Error: {str(e)}\")"
      ],
      "metadata": {
        "id": "numzelR9j7Jh"
      },
      "execution_count": null,
      "outputs": []
    },
    {
      "cell_type": "markdown",
      "source": [
        "# start chatting"
      ],
      "metadata": {
        "id": "8g8YM74G800J"
      }
    },
    {
      "cell_type": "code",
      "source": [
        "# Run all Define Models cells\n",
        "# Run maskNLLLoss function"
      ],
      "metadata": {
        "id": "tkuWSxp09Ckr"
      },
      "execution_count": null,
      "outputs": []
    },
    {
      "cell_type": "code",
      "source": [
        "#load checkpoint of final model\n",
        "checkpoint = torch.load('/content/chatbot_final.pth', map_location=device, weights_only=False)\n",
        "\n",
        "# Extract components\n",
        "voc = checkpoint['voc']\n",
        "encoder_weights = checkpoint['encoder']\n",
        "decoder_weights = checkpoint['decoder']\n",
        "\n",
        "# Recreate models\n",
        "embedding = nn.Embedding(voc.num_words, hidden_size)\n",
        "encoder = EncoderRNN(hidden_size, embedding, encoder_n_layers, dropout)\n",
        "decoder = LuongAttnDecoderRNN(attn_model, embedding, hidden_size, voc.num_words, decoder_n_layers, dropout)\n",
        "\n",
        "# Load weights\n",
        "encoder.load_state_dict(encoder_weights)\n",
        "decoder.load_state_dict(decoder_weights)\n",
        "\n",
        "# Move to device and set eval mode\n",
        "encoder = encoder.to(device).eval()\n",
        "decoder = decoder.to(device).eval()"
      ],
      "metadata": {
        "id": "lJXtUv0187mi"
      },
      "execution_count": null,
      "outputs": []
    },
    {
      "cell_type": "code",
      "source": [
        "# start chatting 🎉\n",
        "chat(encoder, decoder, voc)"
      ],
      "metadata": {
        "colab": {
          "base_uri": "https://localhost:8080/",
          "height": 480
        },
        "id": "KwN1GKjb5K-4",
        "outputId": "f64bfd51-159c-4f83-b209-a492925551f6"
      },
      "execution_count": null,
      "outputs": [
        {
          "output_type": "stream",
          "name": "stdout",
          "text": [
            "Chat with the bot (type 'quit' or 'exit' or 'q' to exit)\n",
            "You: hello\n",
            "Bot: hello .\n",
            "You: how are you ?\n",
            "Bot: okay .\n",
            "You: where am i ?\n",
            "Bot: you re in a hospital in london .\n",
            "You: do you drink water ?\n",
            "Bot: no .\n"
          ]
        },
        {
          "output_type": "error",
          "ename": "KeyboardInterrupt",
          "evalue": "Interrupted by user",
          "traceback": [
            "\u001b[0;31m---------------------------------------------------------------------------\u001b[0m",
            "\u001b[0;31mKeyboardInterrupt\u001b[0m                         Traceback (most recent call last)",
            "\u001b[0;32m<ipython-input-122-729863664>\u001b[0m in \u001b[0;36m<cell line: 0>\u001b[0;34m()\u001b[0m\n\u001b[1;32m      1\u001b[0m \u001b[0;31m# start chatting 🎉\u001b[0m\u001b[0;34m\u001b[0m\u001b[0;34m\u001b[0m\u001b[0m\n\u001b[0;32m----> 2\u001b[0;31m \u001b[0mchat\u001b[0m\u001b[0;34m(\u001b[0m\u001b[0mencoder\u001b[0m\u001b[0;34m,\u001b[0m \u001b[0mdecoder\u001b[0m\u001b[0;34m,\u001b[0m \u001b[0mvoc\u001b[0m\u001b[0;34m)\u001b[0m\u001b[0;34m\u001b[0m\u001b[0;34m\u001b[0m\u001b[0m\n\u001b[0m",
            "\u001b[0;32m<ipython-input-109-2330664421>\u001b[0m in \u001b[0;36mchat\u001b[0;34m(encoder, decoder, voc)\u001b[0m\n\u001b[1;32m      7\u001b[0m     \u001b[0;32mwhile\u001b[0m \u001b[0;32mTrue\u001b[0m\u001b[0;34m:\u001b[0m\u001b[0;34m\u001b[0m\u001b[0;34m\u001b[0m\u001b[0m\n\u001b[1;32m      8\u001b[0m         \u001b[0;32mtry\u001b[0m\u001b[0;34m:\u001b[0m\u001b[0;34m\u001b[0m\u001b[0;34m\u001b[0m\u001b[0m\n\u001b[0;32m----> 9\u001b[0;31m             \u001b[0minput_sentence\u001b[0m \u001b[0;34m=\u001b[0m \u001b[0minput\u001b[0m\u001b[0;34m(\u001b[0m\u001b[0;34m\"You: \"\u001b[0m\u001b[0;34m)\u001b[0m\u001b[0;34m\u001b[0m\u001b[0;34m\u001b[0m\u001b[0m\n\u001b[0m\u001b[1;32m     10\u001b[0m             \u001b[0;32mif\u001b[0m \u001b[0minput_sentence\u001b[0m\u001b[0;34m.\u001b[0m\u001b[0mlower\u001b[0m\u001b[0;34m(\u001b[0m\u001b[0;34m)\u001b[0m \u001b[0;32min\u001b[0m \u001b[0;34m[\u001b[0m\u001b[0;34m'quit'\u001b[0m\u001b[0;34m,\u001b[0m \u001b[0;34m'exit'\u001b[0m\u001b[0;34m,\u001b[0m \u001b[0;34m'q'\u001b[0m\u001b[0;34m]\u001b[0m\u001b[0;34m:\u001b[0m\u001b[0;34m\u001b[0m\u001b[0;34m\u001b[0m\u001b[0m\n\u001b[1;32m     11\u001b[0m                 \u001b[0;32mbreak\u001b[0m\u001b[0;34m\u001b[0m\u001b[0;34m\u001b[0m\u001b[0m\n",
            "\u001b[0;32m/usr/local/lib/python3.11/dist-packages/ipykernel/kernelbase.py\u001b[0m in \u001b[0;36mraw_input\u001b[0;34m(self, prompt)\u001b[0m\n\u001b[1;32m   1175\u001b[0m                 \u001b[0;34m\"raw_input was called, but this frontend does not support input requests.\"\u001b[0m\u001b[0;34m\u001b[0m\u001b[0;34m\u001b[0m\u001b[0m\n\u001b[1;32m   1176\u001b[0m             )\n\u001b[0;32m-> 1177\u001b[0;31m         return self._input_request(\n\u001b[0m\u001b[1;32m   1178\u001b[0m             \u001b[0mstr\u001b[0m\u001b[0;34m(\u001b[0m\u001b[0mprompt\u001b[0m\u001b[0;34m)\u001b[0m\u001b[0;34m,\u001b[0m\u001b[0;34m\u001b[0m\u001b[0;34m\u001b[0m\u001b[0m\n\u001b[1;32m   1179\u001b[0m             \u001b[0mself\u001b[0m\u001b[0;34m.\u001b[0m\u001b[0m_parent_ident\u001b[0m\u001b[0;34m[\u001b[0m\u001b[0;34m\"shell\"\u001b[0m\u001b[0;34m]\u001b[0m\u001b[0;34m,\u001b[0m\u001b[0;34m\u001b[0m\u001b[0;34m\u001b[0m\u001b[0m\n",
            "\u001b[0;32m/usr/local/lib/python3.11/dist-packages/ipykernel/kernelbase.py\u001b[0m in \u001b[0;36m_input_request\u001b[0;34m(self, prompt, ident, parent, password)\u001b[0m\n\u001b[1;32m   1217\u001b[0m             \u001b[0;32mexcept\u001b[0m \u001b[0mKeyboardInterrupt\u001b[0m\u001b[0;34m:\u001b[0m\u001b[0;34m\u001b[0m\u001b[0;34m\u001b[0m\u001b[0m\n\u001b[1;32m   1218\u001b[0m                 \u001b[0;31m# re-raise KeyboardInterrupt, to truncate traceback\u001b[0m\u001b[0;34m\u001b[0m\u001b[0;34m\u001b[0m\u001b[0m\n\u001b[0;32m-> 1219\u001b[0;31m                 \u001b[0;32mraise\u001b[0m \u001b[0mKeyboardInterrupt\u001b[0m\u001b[0;34m(\u001b[0m\u001b[0;34m\"Interrupted by user\"\u001b[0m\u001b[0;34m)\u001b[0m \u001b[0;32mfrom\u001b[0m \u001b[0;32mNone\u001b[0m\u001b[0;34m\u001b[0m\u001b[0;34m\u001b[0m\u001b[0m\n\u001b[0m\u001b[1;32m   1220\u001b[0m             \u001b[0;32mexcept\u001b[0m \u001b[0mException\u001b[0m\u001b[0;34m:\u001b[0m\u001b[0;34m\u001b[0m\u001b[0;34m\u001b[0m\u001b[0m\n\u001b[1;32m   1221\u001b[0m                 \u001b[0mself\u001b[0m\u001b[0;34m.\u001b[0m\u001b[0mlog\u001b[0m\u001b[0;34m.\u001b[0m\u001b[0mwarning\u001b[0m\u001b[0;34m(\u001b[0m\u001b[0;34m\"Invalid Message:\"\u001b[0m\u001b[0;34m,\u001b[0m \u001b[0mexc_info\u001b[0m\u001b[0;34m=\u001b[0m\u001b[0;32mTrue\u001b[0m\u001b[0;34m)\u001b[0m\u001b[0;34m\u001b[0m\u001b[0;34m\u001b[0m\u001b[0m\n",
            "\u001b[0;31mKeyboardInterrupt\u001b[0m: Interrupted by user"
          ]
        }
      ]
    }
  ]
}